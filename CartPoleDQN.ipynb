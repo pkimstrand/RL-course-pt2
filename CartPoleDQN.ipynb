{
 "cells": [
  {
   "cell_type": "code",
   "execution_count": 1,
   "id": "aeec818f-b6bd-472d-88c5-20b5ced26a30",
   "metadata": {
    "executionInfo": {
     "elapsed": 6,
     "status": "ok",
     "timestamp": 1653397180515,
     "user": {
      "displayName": "Peter Kimstrand",
      "userId": "08323163514993465067"
     },
     "user_tz": -120
    },
    "id": "aeec818f-b6bd-472d-88c5-20b5ced26a30"
   },
   "outputs": [],
   "source": [
    "%matplotlib inline\n",
    "import matplotlib.pyplot as plt\n",
    "from matplotlib import image\n",
    "import numpy as np\n",
    "from collections import deque\n",
    "import math\n",
    "import random"
   ]
  },
  {
   "cell_type": "code",
   "execution_count": 2,
   "id": "dc185502-2538-4e7c-9f3b-5c481d5b4d5b",
   "metadata": {
    "executionInfo": {
     "elapsed": 3616,
     "status": "ok",
     "timestamp": 1653397188802,
     "user": {
      "displayName": "Peter Kimstrand",
      "userId": "08323163514993465067"
     },
     "user_tz": -120
    },
    "id": "dc185502-2538-4e7c-9f3b-5c481d5b4d5b"
   },
   "outputs": [],
   "source": [
    "import torch\n",
    "from torch import nn\n",
    "from torch.utils.data import DataLoader\n",
    "from torchvision import datasets\n",
    "from torchvision.transforms import ToTensor, Lambda"
   ]
  },
  {
   "cell_type": "code",
   "execution_count": 3,
   "id": "b7670f7a-545d-4852-a699-fa86b6d66bad",
   "metadata": {
    "colab": {
     "base_uri": "https://localhost:8080/"
    },
    "executionInfo": {
     "elapsed": 6,
     "status": "ok",
     "timestamp": 1653397188803,
     "user": {
      "displayName": "Peter Kimstrand",
      "userId": "08323163514993465067"
     },
     "user_tz": -120
    },
    "id": "b7670f7a-545d-4852-a699-fa86b6d66bad",
    "outputId": "c2c22e48-fdc5-46a2-a3be-f26576e4c356"
   },
   "outputs": [
    {
     "name": "stdout",
     "output_type": "stream",
     "text": [
      "Using cuda device\n"
     ]
    }
   ],
   "source": [
    "device = \"cuda\" if torch.cuda.is_available() else \"cpu\"\n",
    "print(f\"Using {device} device\")"
   ]
  },
  {
   "cell_type": "markdown",
   "id": "405a78a0-40d7-45ec-b265-0ae2adf8291c",
   "metadata": {
    "id": "405a78a0-40d7-45ec-b265-0ae2adf8291c"
   },
   "source": [
    "# Implementing the DQN algorithm\n",
    "I've chosen the mountain car environment to try out the NFQ-algorithm\n",
    "Some learning highlights:\n",
    "* Hint-to-goal heuristic seems crucial for the success\n",
    "* Make sure to have cost & min Q / reward max Q in all places.\n",
    "* The number of episodes + increment fed to the training process in each batch seems to hav a large impact\n",
    "* Continuing/stopping the training at the right time point is crucial. I've achieved good results with this implementation, but then ruined a good trained NFQ agent"
   ]
  },
  {
   "cell_type": "code",
   "execution_count": 4,
   "id": "81dffc7c-02ef-4ab3-80c4-51d0fb9a580c",
   "metadata": {
    "executionInfo": {
     "elapsed": 262,
     "status": "ok",
     "timestamp": 1653397215101,
     "user": {
      "displayName": "Peter Kimstrand",
      "userId": "08323163514993465067"
     },
     "user_tz": -120
    },
    "id": "81dffc7c-02ef-4ab3-80c4-51d0fb9a580c"
   },
   "outputs": [],
   "source": [
    "import gym\n",
    "# Set up environment and do a test run\n",
    "g_env = gym.make('CartPole-v0')"
   ]
  },
  {
   "cell_type": "code",
   "execution_count": 5,
   "id": "0654957c-ac37-4628-b72f-437a347e4c52",
   "metadata": {
    "executionInfo": {
     "elapsed": 253,
     "status": "ok",
     "timestamp": 1653397221610,
     "user": {
      "displayName": "Peter Kimstrand",
      "userId": "08323163514993465067"
     },
     "user_tz": -120
    },
    "id": "0654957c-ac37-4628-b72f-437a347e4c52"
   },
   "outputs": [],
   "source": [
    "if False:\n",
    "    g_env.reset()\n",
    "    n_transitions = 200\n",
    "\n",
    "    for i in range(n_transitions):\n",
    "        state, reward, done, _ = g_env.step(env.action_space.sample())\n",
    "        g_env.render()\n",
    "        if done:\n",
    "            g_env.reset()"
   ]
  },
  {
   "cell_type": "code",
   "execution_count": 21,
   "id": "d60f2fbd-2104-4c3a-bb33-bc950215728d",
   "metadata": {
    "executionInfo": {
     "elapsed": 264,
     "status": "ok",
     "timestamp": 1653398700018,
     "user": {
      "displayName": "Peter Kimstrand",
      "userId": "08323163514993465067"
     },
     "user_tz": -120
    },
    "id": "d60f2fbd-2104-4c3a-bb33-bc950215728d"
   },
   "outputs": [],
   "source": [
    "class DQNLearningAgent():\n",
    "    def __init__(self,env,discount_factor, epsilon, policy_net, target_net):\n",
    "        self.env = env\n",
    "        self.gamma = discount_factor\n",
    "        self.epsilon = epsilon\n",
    "        self.policy_net = policy_net\n",
    "        self.target_net = target_net\n",
    "        self.x_success_range = 2.4\n",
    "        self.theta_success_range = 8 * 2 * math.pi / 360\n",
    "        \n",
    "        self.x_threshold = 2.4\n",
    "        self.theta_threshold_radians = 12/180*math.pi\n",
    "    \n",
    "    def step(self, state, target=False):\n",
    "        if (target):\n",
    "            q_s = self.target_net.get_qs(state)\n",
    "            action = np.argmin(q_s)\n",
    "        else:\n",
    "            q_s = self.policy_net.get_qs(state)\n",
    "            #self.epsilon = EPS_END + (EPS_START - EPS_END) * math.exp(-1. * steps_done / EPS_DECAY)\n",
    "            if random.random() > self.epsilon:\n",
    "                action = np.argmin(q_s)\n",
    "            else:\n",
    "                action = random.randint(0,1)\n",
    "\n",
    "        new_state, reward, done, info = self.env.step(action) \n",
    "        # Convert rewards to cost in the interval (0.0, 1,0)\n",
    "        x = new_state[0]\n",
    "        theta = new_state[2]\n",
    "        cost = 0.01\n",
    "        if (x< -self.x_threshold or x > self.x_threshold\n",
    "            or theta < -self.theta_threshold_radians\n",
    "            or theta > self.theta_threshold_radians):\n",
    "            #done = True\n",
    "            cost = 1\n",
    "        # Goal States (S+)\n",
    "        elif (-self.x_success_range < x < self.x_success_range\n",
    "              and -self.theta_success_range < theta < self.theta_success_range):\n",
    "            #done = False\n",
    "            cost = 0\n",
    "        return action, cost, new_state, done, info\n",
    "\n",
    "    def run_one_episode(self, target=False):\n",
    "        episode = []\n",
    "        done = False\n",
    "        total_cost = 0\n",
    "        state = self.env.reset()\n",
    "        \n",
    "        for _ in range(500):\n",
    "            # get best action from the NFQ net\n",
    "            action, cost, new_state, done, info = self.step(state, target)\n",
    "           \n",
    "            episode.append((state, action, cost, new_state, done, info))\n",
    "            # Update state\n",
    "            state = new_state\n",
    "\n",
    "            total_cost += cost\n",
    "            if done:\n",
    "                break\n",
    "            #if 'TimeLimit.truncated' in info:\n",
    "            #    #print(info)\n",
    "            #    break\n",
    "            \n",
    "        return episode, total_cost\n",
    "    \n",
    "    def generate_experiences(self, n_episodes):\n",
    "        experiences=[]\n",
    "        for _ in range(n_episodes):\n",
    "            episode, _ = self.run_one_episode()\n",
    "            experiences.extend(episode)\n",
    "        return experiences\n",
    "    \n",
    "    def get_goal_experience(self, size):\n",
    "        # Hint-to-goal heuristic with values extracted from env\n",
    "        goal_experiences = []\n",
    "        \n",
    "        for i in range(size):\n",
    "            goal_experiences.append(np.array([np.random.uniform(-0.1, 0.1), \n",
    "                                              np.random.normal(), \n",
    "                                              np.random.uniform(-self.theta_success_range, self.theta_success_range), \n",
    "                                              np.random.normal(), \n",
    "                                              np.random.randint(2)]))\n",
    "        goal_targets = np.zeros(size, dtype = np.float32)\n",
    "        return np.array(goal_experiences), goal_targets\n",
    "                            "
   ]
  },
  {
   "cell_type": "code",
   "execution_count": 22,
   "id": "7f53c759-d605-4bf9-9ed6-cd6bcdf71a09",
   "metadata": {
    "executionInfo": {
     "elapsed": 234,
     "status": "ok",
     "timestamp": 1653400033552,
     "user": {
      "displayName": "Peter Kimstrand",
      "userId": "08323163514993465067"
     },
     "user_tz": -120
    },
    "id": "7f53c759-d605-4bf9-9ed6-cd6bcdf71a09"
   },
   "outputs": [],
   "source": [
    "class NeuralNetwork(nn.Module):\n",
    "    def __init__(self):\n",
    "        super(NeuralNetwork, self).__init__()\n",
    "        # Copying the neural network from Riedmiller 2005\n",
    "        self.MLP = nn.Sequential(\n",
    "            nn.Linear(5, 5),\n",
    "            nn.Sigmoid(),\n",
    "            nn.Linear(5, 5),\n",
    "            nn.Sigmoid(),\n",
    "            nn.Linear(5, 5),\n",
    "            nn.Sigmoid(),\n",
    "            nn.Linear(5, 1),\n",
    "        )\n",
    "          # Initialize weights to [-0.5, 0.5]\n",
    "        def init_weights(m):\n",
    "            if type(m) == nn.Linear:\n",
    "                torch.nn.init.uniform_(m.weight, -0.5, 0.5)\n",
    "              \n",
    "        self.MLP.apply(init_weights)\n",
    "\n",
    "    def forward(self, x):\n",
    "        \n",
    "        logits = self.MLP(x.to(device))\n",
    "        return logits\n",
    "    \n",
    "    def get_qs(self, state):\n",
    "        qs = np.array([self.MLP(torch.cat([torch.FloatTensor(state).to(device), \n",
    "                                           torch.FloatTensor([i]).to(device)], \n",
    "                                          dim=0)).cpu().detach().numpy() for i in range(2)]).flatten()\n",
    "        return qs"
   ]
  },
  {
   "cell_type": "raw",
   "id": "bff1cba1-6b3e-41db-ab6f-60ad04f0d4b8",
   "metadata": {
    "id": "bff1cba1-6b3e-41db-ab6f-60ad04f0d4b8"
   },
   "source": []
  },
  {
   "cell_type": "code",
   "execution_count": 31,
   "id": "008a3c5d-b969-4bff-ac95-38441b41d45c",
   "metadata": {
    "executionInfo": {
     "elapsed": 233,
     "status": "ok",
     "timestamp": 1653400085924,
     "user": {
      "displayName": "Peter Kimstrand",
      "userId": "08323163514993465067"
     },
     "user_tz": -120
    },
    "id": "008a3c5d-b969-4bff-ac95-38441b41d45c"
   },
   "outputs": [],
   "source": [
    "def sample_pattern_set(experiences, model, discount_factor, device, n_sample):\n",
    "   \n",
    "    state_b, action_b, cost_b, next_state_b, done_b,_ = zip(*random.sample(experiences, n_sample))\n",
    "    done_b = np.array([float(done) for done in done_b])\n",
    "    state_b = torch.tensor(np.array(state_b), device=device, dtype=torch.float)\n",
    "    action_b = torch.tensor(np.array(action_b), device=device, dtype=torch.float)\n",
    "    cost_b = torch.tensor(np.array(cost_b), device=device, dtype=torch.float)\n",
    "    next_state_b = torch.tensor(np.array(next_state_b), device=device, dtype=torch.float)\n",
    "    done_b = torch.tensor(done_b, device=device, dtype=torch.float)\n",
    "\n",
    "    # Create the input_l = sl, ul\n",
    "    state_action_b = torch.cat([state_b, action_b.unsqueeze(1)], 1)\n",
    "\n",
    "    # Compute minb Qk(s\u0001l, b)\n",
    "    q_next_state_0_b = model(torch.cat([next_state_b, torch.zeros(n_sample, 1, device=device, dtype=torch.float)], 1)).squeeze()\n",
    "    q_next_state_1_b = model(torch.cat([next_state_b, torch.ones(n_sample, 1, device=device, dtype=torch.float)], 1)).squeeze()\n",
    "    q_next_state_b,_ = torch.min(torch.stack([q_next_state_0_b, q_next_state_1_b]),dim=0)\n",
    "    \n",
    "    # Create the target_l = c(sl, ul, s\u0001l) +γ minb Qk(s\u0001l, b)\n",
    "    with torch.no_grad():\n",
    "        target_q_values = cost_b + discount_factor * q_next_state_b * (1-done_b)\n",
    "\n",
    "    return state_action_b, target_q_values\n",
    "\n",
    "def train_loop(agent, loss_fn, optimizer, discount_factor, device):\n",
    "    losses=[]\n",
    "    test_episode_lengths=[]\n",
    "    global steps_done\n",
    "    N_batches = 100000\n",
    "    n_sample=500\n",
    "    state = agent.env.reset()\n",
    "    experiences = []\n",
    "    \n",
    "    for i_batch in range(N_batches):\n",
    "        # Sample experiences from replay buffer\n",
    "        \n",
    "        action, cost, new_state, done, info = agent.step(state)\n",
    "        experiences.append((state, action, cost, new_state, done, info))\n",
    "        \n",
    "        if done:\n",
    "            state = agent.env.reset()\n",
    "        else:\n",
    "            state = new_state\n",
    "        if (len(experiences) > n_sample):\n",
    "        \n",
    "            state_actions, target_q_values = sample_pattern_set(experiences, \n",
    "                                                      agent.target_net, \n",
    "                                                      discount_factor,\n",
    "                                                      device, n_sample)\n",
    "   \n",
    "        \n",
    "            pred = agent.policy_net(state_actions).squeeze()\n",
    "\n",
    "            loss = loss_fn(pred, target_q_values)\n",
    "            losses.append(loss.item())\n",
    "\n",
    "            # Backpropagation\n",
    "            optimizer.zero_grad()\n",
    "            loss.backward()\n",
    "            optimizer.step()\n",
    "\n",
    "            if i_batch%500 == 0:\n",
    "                success_rate, ep_length = test_loop(agent, 100)\n",
    "                if (success_rate >= 99.0):\n",
    "                    break\n",
    "                scheduler.step()\n",
    "                test_episode_lengths.append(ep_length)\n",
    "                \n",
    "            EXPLORE = N_batches   #how many time steps to play\n",
    "            FINAL_EPSILON = 0.001 # final value of epsilon\n",
    "            INITIAL_EPSILON = 1.0# # starting value of epsilon\n",
    "\n",
    "            if agent.epsilon > FINAL_EPSILON:\n",
    "                agent.epsilon -= (INITIAL_EPSILON - FINAL_EPSILON) / EXPLORE\n",
    "\n",
    "            steps_done +=1\n",
    "\n",
    "            if i_batch % TARGET_UPDATE == 0:\n",
    "                agent.target_net.load_state_dict(agent.policy_net.state_dict())\n",
    "    return losses, test_episode_lengths\n",
    "\n",
    "\n",
    "def test_loop(agent, n_trials):\n",
    "    success = 0.\n",
    "    episode_lengths=[]\n",
    "    for i in range (n_trials):\n",
    "        episode, total_cost = agent.run_one_episode(target=True)\n",
    "        done = episode[-1][-2]\n",
    "        info = episode[-1][-1]\n",
    "        episode_lengths.append(len(episode))\n",
    "        if done and ('TimeLimit.truncated' in info and info['TimeLimit.truncated']):\n",
    "            success+=1.\n",
    "        \n",
    "    success /= n_trials\n",
    "    print(f\"Test run, average length: {(np.mean(episode_lengths)):>0.1f}, max: {(np.max(episode_lengths)):>0.1f}\")\n",
    "    print(f\"Success rate: {(100*success):>0.1f}%\")\n",
    "    agent.env.reset()\n",
    "    return success*100, episode_lengths"
   ]
  },
  {
   "cell_type": "code",
   "execution_count": 32,
   "id": "2362a132-567f-4d10-962d-4feb7b5305a7",
   "metadata": {
    "executionInfo": {
     "elapsed": 229,
     "status": "ok",
     "timestamp": 1653400088280,
     "user": {
      "displayName": "Peter Kimstrand",
      "userId": "08323163514993465067"
     },
     "user_tz": -120
    },
    "id": "2362a132-567f-4d10-962d-4feb7b5305a7"
   },
   "outputs": [],
   "source": [
    "policy_net = NeuralNetwork().to(device)\n",
    "target_net = NeuralNetwork().to(device)\n",
    "target_net.load_state_dict(policy_net.state_dict())\n",
    "gamma = 0.95\n",
    "\n",
    "\n",
    "EPS_START = 0.9\n",
    "EPS_END = 0.05\n",
    "EPS_DECAY = 200\n",
    "steps_done = 0\n",
    "\n",
    "#EXPLORE = 3000000   #how many time steps to play\n",
    "#FINAL_EPSILON = 0.001 # final value of epsilon\n",
    "#INITIAL_EPSILON = 1.0# # starting value of epsilon\n",
    "\n",
    "#if epsilon > FINAL_EPSILON:\n",
    "#            epsilon -= (INITIAL_EPSILON - FINAL_EPSILON) / EXPLORE\n",
    "\n",
    "\n",
    "TARGET_UPDATE = 500\n",
    "loss_fn=nn.MSELoss()\n",
    "optimizer = torch.optim.Rprop(policy_net.parameters(), lr=0.1)\n",
    "scheduler = torch.optim.lr_scheduler.ExponentialLR(optimizer, gamma=0.9)\n",
    "\n",
    "DQNagent = DQNLearningAgent(g_env, gamma, EPS_START, policy_net, target_net)"
   ]
  },
  {
   "cell_type": "code",
   "execution_count": 33,
   "id": "fc0591a9-56eb-43f6-a763-53f998bd61a7",
   "metadata": {
    "colab": {
     "base_uri": "https://localhost:8080/"
    },
    "executionInfo": {
     "elapsed": 6138,
     "status": "ok",
     "timestamp": 1653400096563,
     "user": {
      "displayName": "Peter Kimstrand",
      "userId": "08323163514993465067"
     },
     "user_tz": -120
    },
    "id": "fc0591a9-56eb-43f6-a763-53f998bd61a7",
    "outputId": "00734a6a-90dc-4d04-a4d9-d6bb097e912f"
   },
   "outputs": [
    {
     "name": "stdout",
     "output_type": "stream",
     "text": [
      "Epoch 1\n",
      "-------------------------------\n",
      "Test run, average length: 9.3, max: 10.0\n",
      "Success rate: 0.0%\n",
      "Test run, average length: 9.3, max: 11.0\n",
      "Success rate: 0.0%\n",
      "Test run, average length: 18.0, max: 47.0\n",
      "Success rate: 0.0%\n",
      "Test run, average length: 21.8, max: 48.0\n",
      "Success rate: 0.0%\n",
      "Test run, average length: 90.5, max: 160.0\n",
      "Success rate: 0.0%\n",
      "Test run, average length: 86.3, max: 136.0\n",
      "Success rate: 0.0%\n",
      "Test run, average length: 96.3, max: 128.0\n",
      "Success rate: 0.0%\n",
      "Test run, average length: 118.7, max: 141.0\n",
      "Success rate: 0.0%\n",
      "Test run, average length: 122.9, max: 144.0\n",
      "Success rate: 0.0%\n",
      "Test run, average length: 125.4, max: 158.0\n",
      "Success rate: 0.0%\n",
      "Test run, average length: 160.9, max: 200.0\n",
      "Success rate: 13.0%\n",
      "Test run, average length: 170.0, max: 200.0\n",
      "Success rate: 24.0%\n",
      "Test run, average length: 169.1, max: 200.0\n",
      "Success rate: 46.0%\n",
      "Test run, average length: 151.6, max: 200.0\n",
      "Success rate: 30.0%\n",
      "Test run, average length: 108.2, max: 200.0\n",
      "Success rate: 10.0%\n",
      "Test run, average length: 90.6, max: 200.0\n",
      "Success rate: 2.0%\n",
      "Test run, average length: 69.8, max: 96.0\n",
      "Success rate: 0.0%\n",
      "Test run, average length: 67.2, max: 90.0\n",
      "Success rate: 0.0%\n",
      "Test run, average length: 90.2, max: 200.0\n",
      "Success rate: 3.0%\n",
      "Test run, average length: 79.7, max: 200.0\n",
      "Success rate: 1.0%\n",
      "Test run, average length: 91.6, max: 200.0\n",
      "Success rate: 3.0%\n",
      "Test run, average length: 93.0, max: 200.0\n",
      "Success rate: 5.0%\n",
      "Test run, average length: 88.4, max: 200.0\n",
      "Success rate: 3.0%\n",
      "Test run, average length: 86.3, max: 200.0\n",
      "Success rate: 3.0%\n",
      "Test run, average length: 97.6, max: 200.0\n",
      "Success rate: 5.0%\n",
      "Test run, average length: 92.5, max: 200.0\n",
      "Success rate: 6.0%\n",
      "Test run, average length: 90.7, max: 200.0\n",
      "Success rate: 4.0%\n",
      "Test run, average length: 87.8, max: 200.0\n",
      "Success rate: 1.0%\n",
      "Test run, average length: 93.4, max: 200.0\n",
      "Success rate: 4.0%\n",
      "Test run, average length: 79.9, max: 200.0\n",
      "Success rate: 1.0%\n",
      "Test run, average length: 83.0, max: 200.0\n",
      "Success rate: 5.0%\n",
      "Test run, average length: 81.6, max: 200.0\n",
      "Success rate: 1.0%\n",
      "Test run, average length: 80.4, max: 149.0\n",
      "Success rate: 0.0%\n",
      "Test run, average length: 78.9, max: 200.0\n",
      "Success rate: 1.0%\n",
      "Test run, average length: 115.7, max: 200.0\n",
      "Success rate: 18.0%\n",
      "Test run, average length: 190.9, max: 200.0\n",
      "Success rate: 79.0%\n",
      "Test run, average length: 195.0, max: 200.0\n",
      "Success rate: 76.0%\n",
      "Test run, average length: 198.2, max: 200.0\n",
      "Success rate: 85.0%\n",
      "Test run, average length: 196.8, max: 200.0\n",
      "Success rate: 84.0%\n",
      "Test run, average length: 195.2, max: 200.0\n",
      "Success rate: 73.0%\n",
      "Test run, average length: 196.6, max: 200.0\n",
      "Success rate: 82.0%\n",
      "Test run, average length: 197.5, max: 200.0\n",
      "Success rate: 82.0%\n",
      "Test run, average length: 198.7, max: 200.0\n",
      "Success rate: 92.0%\n",
      "Test run, average length: 198.7, max: 200.0\n",
      "Success rate: 85.0%\n",
      "Test run, average length: 198.0, max: 200.0\n",
      "Success rate: 85.0%\n",
      "Test run, average length: 198.5, max: 200.0\n",
      "Success rate: 88.0%\n",
      "Test run, average length: 199.2, max: 200.0\n",
      "Success rate: 92.0%\n",
      "Test run, average length: 199.7, max: 200.0\n",
      "Success rate: 94.0%\n",
      "Test run, average length: 200.0, max: 200.0\n",
      "Success rate: 100.0%\n",
      "Test run, average length: 200.0, max: 200.0\n",
      "Success rate: 100.0%\n",
      "Done!\n"
     ]
    }
   ],
   "source": [
    "losses=[]\n",
    "epochs = 1\n",
    "for t in range(epochs):\n",
    "    print(f\"Epoch {t+1}\\n-------------------------------\")\n",
    "    losses.extend(train_loop(DQNagent, loss_fn, optimizer, gamma, device))\n",
    "    success_rate, episode_lengths = test_loop(DQNagent, 100)\n",
    "    if (success_rate >= 99.0):\n",
    "        break\n",
    "print(\"Done!\")"
   ]
  },
  {
   "cell_type": "code",
   "execution_count": 65,
   "id": "b12ed6fb-012e-4fd5-a8be-caa38dbee975",
   "metadata": {},
   "outputs": [
    {
     "data": {
      "image/png": "[encoded data removed]",
      "text/plain": [
       "<Figure size 432x288 with 1 Axes>"
      ]
     },
     "metadata": {
      "needs_background": "light"
     },
     "output_type": "display_data"
    }
   ],
   "source": [
    "plt.figure()\n",
    "p=plt.plot(np.log(losses[0]))\n",
    "yl=plt.ylabel('log(Loss)')\n",
    "yl=plt.xlabel('Episode')"
   ]
  },
  {
   "cell_type": "code",
   "execution_count": 64,
   "id": "d732d885-9f9c-48ed-ba2c-bc82a652e109",
   "metadata": {},
   "outputs": [
    {
     "data": {
      "image/png": "[encoded data removed]",
      "text/plain": [
       "<Figure size 432x288 with 1 Axes>"
      ]
     },
     "metadata": {
      "needs_background": "light"
     },
     "output_type": "display_data"
    }
   ],
   "source": [
    "plt.figure()\n",
    "p=plt.boxplot(losses[1], showfliers=False)#[np.mean(ep) for ep in losses[1]])\n",
    "n_batches = len(losses[1])\n",
    "t=plt.xticks(ticks=np.arange(0,n_batches,5), labels=5*np.arange(0,n_batches,5))\n",
    "yl=plt.ylabel('Episode length')\n",
    "yl=plt.xlabel('Batch no')"
   ]
  },
  {
   "cell_type": "code",
   "execution_count": 40,
   "id": "573bdb6f-2785-4bb8-9f5a-5360fb3011c1",
   "metadata": {
    "colab": {
     "base_uri": "https://localhost:8080/"
    },
    "executionInfo": {
     "elapsed": 1590,
     "status": "ok",
     "timestamp": 1653400137049,
     "user": {
      "displayName": "Peter Kimstrand",
      "userId": "08323163514993465067"
     },
     "user_tz": -120
    },
    "id": "573bdb6f-2785-4bb8-9f5a-5360fb3011c1",
    "outputId": "69d6eddd-31fc-48f5-b6a3-c4f070caac1d"
   },
   "outputs": [
    {
     "name": "stdout",
     "output_type": "stream",
     "text": [
      "Test run, average length: 200.0, max: 200.0\n",
      "Success rate: 100.0%\n"
     ]
    }
   ],
   "source": [
    "# Do a test run using the trained NFQ agent\n",
    "_,_=test_loop(DQNagent, 500)"
   ]
  },
  {
   "cell_type": "code",
   "execution_count": 45,
   "id": "f6ae22e9-5a37-4d0b-bba5-7adcf051b665",
   "metadata": {
    "colab": {
     "base_uri": "https://localhost:8080/",
     "height": 399
    },
    "executionInfo": {
     "elapsed": 630,
     "status": "error",
     "timestamp": 1653400142410,
     "user": {
      "displayName": "Peter Kimstrand",
      "userId": "08323163514993465067"
     },
     "user_tz": -120
    },
    "id": "f6ae22e9-5a37-4d0b-bba5-7adcf051b665",
    "outputId": "02188ba7-435b-48e0-d46b-7f4e91d15f76"
   },
   "outputs": [
    {
     "name": "stdout",
     "output_type": "stream",
     "text": [
      "{'TimeLimit.truncated': True}\n",
      "{'TimeLimit.truncated': True}\n",
      "{'TimeLimit.truncated': True}\n",
      "{'TimeLimit.truncated': True}\n",
      "{'TimeLimit.truncated': True}\n"
     ]
    }
   ],
   "source": [
    "# For visualization\n",
    "state = DQNagent.env.reset()\n",
    "n_transitions = 1000\n",
    "\n",
    "for i in range(n_transitions):\n",
    "    \n",
    "    action, cost, state, done, info = DQNagent.step(state, True)\n",
    "    \n",
    "    DQNagent.env.render()\n",
    "    if done:\n",
    "        if 'TimeLimit.truncated' in info:\n",
    "            print(info)\n",
    "        else:\n",
    "            print('Terminated: Failed')\n",
    "        DQNagent.env.reset()"
   ]
  },
  {
   "cell_type": "code",
   "execution_count": null,
   "id": "928b545c-4901-4b6a-8ba3-9d187fe011af",
   "metadata": {
    "id": "928b545c-4901-4b6a-8ba3-9d187fe011af"
   },
   "outputs": [],
   "source": []
  }
 ],
 "metadata": {
  "accelerator": "GPU",
  "colab": {
   "name": "PoleCartNFQ_DQN.ipynb",
   "provenance": [
    {
     "file_id": "https://github.com/pkimstrand/RL-course-pt2/blob/main/PoleCartNFQ_DQN.ipynb",
     "timestamp": 1653397147341
    }
   ]
  },
  "kernelspec": {
   "display_name": "Python 3 (ipykernel)",
   "language": "python",
   "name": "python3"
  },
  "language_info": {
   "codemirror_mode": {
    "name": "ipython",
    "version": 3
   },
   "file_extension": ".py",
   "mimetype": "text/x-python",
   "name": "python",
   "nbconvert_exporter": "python",
   "pygments_lexer": "ipython3",
   "version": "3.9.7"
  }
 },
 "nbformat": 4,
 "nbformat_minor": 5
}
